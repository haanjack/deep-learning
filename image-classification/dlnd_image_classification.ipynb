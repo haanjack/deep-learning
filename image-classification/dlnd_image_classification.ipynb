{
 "cells": [
  {
   "cell_type": "markdown",
   "metadata": {
    "collapsed": true,
    "deletable": true,
    "editable": true
   },
   "source": [
    "# Image Classification\n",
    "In this project, you'll classify images from the [CIFAR-10 dataset](https://www.cs.toronto.edu/~kriz/cifar.html).  The dataset consists of airplanes, dogs, cats, and other objects. You'll preprocess the images, then train a convolutional neural network on all the samples. The images need to be normalized and the labels need to be one-hot encoded.  You'll get to apply what you learned and build a convolutional, max pooling, dropout, and fully connected layers.  At the end, you'll get to see your neural network's predictions on the sample images.\n",
    "## Get the Data\n",
    "Run the following cell to download the [CIFAR-10 dataset for python](https://www.cs.toronto.edu/~kriz/cifar-10-python.tar.gz)."
   ]
  },
  {
   "cell_type": "code",
   "execution_count": 1,
   "metadata": {
    "collapsed": false,
    "deletable": true,
    "editable": true
   },
   "outputs": [
    {
     "name": "stdout",
     "output_type": "stream",
     "text": [
      "All files found!\n"
     ]
    }
   ],
   "source": [
    "\"\"\"\n",
    "DON'T MODIFY ANYTHING IN THIS CELL THAT IS BELOW THIS LINE\n",
    "\"\"\"\n",
    "from urllib.request import urlretrieve\n",
    "from os.path import isfile, isdir\n",
    "from tqdm import tqdm\n",
    "import problem_unittests as tests\n",
    "import tarfile\n",
    "\n",
    "cifar10_dataset_folder_path = 'cifar-10-batches-py'\n",
    "\n",
    "class DLProgress(tqdm):\n",
    "    last_block = 0\n",
    "\n",
    "    def hook(self, block_num=1, block_size=1, total_size=None):\n",
    "        self.total = total_size\n",
    "        self.update((block_num - self.last_block) * block_size)\n",
    "        self.last_block = block_num\n",
    "\n",
    "if not isfile('cifar-10-python.tar.gz'):\n",
    "    with DLProgress(unit='B', unit_scale=True, miniters=1, desc='CIFAR-10 Dataset') as pbar:\n",
    "        urlretrieve(\n",
    "            'https://www.cs.toronto.edu/~kriz/cifar-10-python.tar.gz',\n",
    "            'cifar-10-python.tar.gz',\n",
    "            pbar.hook)\n",
    "\n",
    "if not isdir(cifar10_dataset_folder_path):\n",
    "    with tarfile.open('cifar-10-python.tar.gz') as tar:\n",
    "        tar.extractall()\n",
    "        tar.close()\n",
    "\n",
    "\n",
    "tests.test_folder_path(cifar10_dataset_folder_path)"
   ]
  },
  {
   "cell_type": "markdown",
   "metadata": {
    "deletable": true,
    "editable": true
   },
   "source": [
    "## Explore the Data\n",
    "The dataset is broken into batches to prevent your machine from running out of memory.  The CIFAR-10 dataset consists of 5 batches, named `data_batch_1`, `data_batch_2`, etc.. Each batch contains the labels and images that are one of the following:\n",
    "* airplane\n",
    "* automobile\n",
    "* bird\n",
    "* cat\n",
    "* deer\n",
    "* dog\n",
    "* frog\n",
    "* horse\n",
    "* ship\n",
    "* truck\n",
    "\n",
    "Understanding a dataset is part of making predictions on the data.  Play around with the code cell below by changing the `batch_id` and `sample_id`. The `batch_id` is the id for a batch (1-5). The `sample_id` is the id for a image and label pair in the batch.\n",
    "\n",
    "Ask yourself \"What are all possible labels?\", \"What is the range of values for the image data?\", \"Are the labels in order or random?\".  Answers to questions like these will help you preprocess the data and end up with better predictions."
   ]
  },
  {
   "cell_type": "code",
   "execution_count": 2,
   "metadata": {
    "collapsed": false,
    "deletable": true,
    "editable": true
   },
   "outputs": [
    {
     "name": "stdout",
     "output_type": "stream",
     "text": [
      "\n",
      "Stats of batch 1:\n",
      "Samples: 10000\n",
      "Label Counts: {0: 1005, 1: 974, 2: 1032, 3: 1016, 4: 999, 5: 937, 6: 1030, 7: 1001, 8: 1025, 9: 981}\n",
      "First 20 Labels: [6, 9, 9, 4, 1, 1, 2, 7, 8, 3, 4, 7, 7, 2, 9, 9, 9, 3, 2, 6]\n",
      "\n",
      "Example of Image 5:\n",
      "Image - Min Value: 0 Max Value: 252\n",
      "Image - Shape: (32, 32, 3)\n",
      "Label - Label Id: 1 Name: automobile\n"
     ]
    },
    {
     "data": {
      "image/png": "[encoded data removed]",
      "text/plain": [
       "<matplotlib.figure.Figure at 0x115e0e9e8>"
      ]
     },
     "metadata": {
      "image/png": {
       "height": 250,
       "width": 253
      }
     },
     "output_type": "display_data"
    }
   ],
   "source": [
    "%matplotlib inline\n",
    "%config InlineBackend.figure_format = 'retina'\n",
    "\n",
    "import helper\n",
    "import numpy as np\n",
    "\n",
    "# Explore the dataset\n",
    "batch_id = 1\n",
    "sample_id = 5\n",
    "helper.display_stats(cifar10_dataset_folder_path, batch_id, sample_id)"
   ]
  },
  {
   "cell_type": "markdown",
   "metadata": {
    "deletable": true,
    "editable": true
   },
   "source": [
    "## Implement Preprocess Functions\n",
    "### Normalize\n",
    "In the cell below, implement the `normalize` function to take in image data, `x`, and return it as a normalized Numpy array. The values should be in the range of 0 to 1, inclusive.  The return object should be the same shape as `x`."
   ]
  },
  {
   "cell_type": "code",
   "execution_count": 3,
   "metadata": {
    "collapsed": false,
    "deletable": true,
    "editable": true,
    "scrolled": true
   },
   "outputs": [
    {
     "name": "stdout",
     "output_type": "stream",
     "text": [
      "Tests Passed\n"
     ]
    }
   ],
   "source": [
    "def normalize(x):\n",
    "    \"\"\"\n",
    "    Normalize a list of sample image data in the range of 0 to 1\n",
    "    : x: List of image data.  The image shape is (32, 32, 3)\n",
    "    : return: Numpy array of normalize data\n",
    "    \"\"\"\n",
    "    # TODO: Implement Function\n",
    "    norm_x = np.array([pixel/255 for pixel in x])\n",
    "    return norm_x\n",
    "\n",
    "\n",
    "\"\"\"\n",
    "DON'T MODIFY ANYTHING IN THIS CELL THAT IS BELOW THIS LINE\n",
    "\"\"\"\n",
    "tests.test_normalize(normalize)"
   ]
  },
  {
   "cell_type": "markdown",
   "metadata": {
    "deletable": true,
    "editable": true
   },
   "source": [
    "### One-hot encode\n",
    "Just like the previous code cell, you'll be implementing a function for preprocessing.  This time, you'll implement the `one_hot_encode` function. The input, `x`, are a list of labels.  Implement the function to return the list of labels as One-Hot encoded Numpy array.  The possible values for labels are 0 to 9. The one-hot encoding function should return the same encoding for each value between each call to `one_hot_encode`.  Make sure to save the map of encodings outside the function.\n",
    "\n",
    "Hint: Don't reinvent the wheel."
   ]
  },
  {
   "cell_type": "code",
   "execution_count": 4,
   "metadata": {
    "collapsed": false,
    "deletable": true,
    "editable": true
   },
   "outputs": [
    {
     "name": "stdout",
     "output_type": "stream",
     "text": [
      "Tests Passed\n"
     ]
    }
   ],
   "source": [
    "def one_hot_encode(x):\n",
    "    \"\"\"\n",
    "    One hot encode a list of sample labels. Return a one-hot encoded vector for each label.\n",
    "    : x: List of sample Labels\n",
    "    : return: Numpy array of one-hot encoded labels\n",
    "    \"\"\"\n",
    "    # TODO: Implement Function\n",
    "    one_hot = np.zeros(shape=(len(x), 10))\n",
    "    for idx in range(len(x)):\n",
    "        for key in range(10):\n",
    "            one_hot[idx][key] = (key == x[idx])\n",
    "    return one_hot;\n",
    "\n",
    "\n",
    "\"\"\"\n",
    "DON'T MODIFY ANYTHING IN THIS CELL THAT IS BELOW THIS LINE\n",
    "\"\"\"\n",
    "tests.test_one_hot_encode(one_hot_encode)"
   ]
  },
  {
   "cell_type": "markdown",
   "metadata": {
    "deletable": true,
    "editable": true
   },
   "source": [
    "### Randomize Data\n",
    "As you saw from exploring the data above, the order of the samples are randomized.  It doesn't hurt to randomize it again, but you don't need to for this dataset."
   ]
  },
  {
   "cell_type": "markdown",
   "metadata": {
    "deletable": true,
    "editable": true
   },
   "source": [
    "## Preprocess all the data and save it\n",
    "Running the code cell below will preprocess all the CIFAR-10 data and save it to file. The code below also uses 10% of the training data for validation."
   ]
  },
  {
   "cell_type": "code",
   "execution_count": 5,
   "metadata": {
    "collapsed": false,
    "deletable": true,
    "editable": true
   },
   "outputs": [],
   "source": [
    "\"\"\"\n",
    "DON'T MODIFY ANYTHING IN THIS CELL\n",
    "\"\"\"\n",
    "# Preprocess Training, Validation, and Testing Data\n",
    "helper.preprocess_and_save_data(cifar10_dataset_folder_path, normalize, one_hot_encode)"
   ]
  },
  {
   "cell_type": "markdown",
   "metadata": {
    "deletable": true,
    "editable": true
   },
   "source": [
    "# Check Point\n",
    "This is your first checkpoint.  If you ever decide to come back to this notebook or have to restart the notebook, you can start from here.  The preprocessed data has been saved to disk."
   ]
  },
  {
   "cell_type": "code",
   "execution_count": 6,
   "metadata": {
    "collapsed": true,
    "deletable": true,
    "editable": true
   },
   "outputs": [],
   "source": [
    "\"\"\"\n",
    "DON'T MODIFY ANYTHING IN THIS CELL\n",
    "\"\"\"\n",
    "import pickle\n",
    "import problem_unittests as tests\n",
    "import helper\n",
    "\n",
    "# Load the Preprocessed Validation data\n",
    "valid_features, valid_labels = pickle.load(open('preprocess_validation.p', mode='rb'))"
   ]
  },
  {
   "cell_type": "markdown",
   "metadata": {
    "deletable": true,
    "editable": true
   },
   "source": [
    "## Build the network\n",
    "For the neural network, you'll build each layer into a function.  Most of the code you've seen has been outside of functions. To test your code more thoroughly, we require that you put each layer in a function.  This allows us to give you better feedback and test for simple mistakes using our unittests before you submit your project.\n",
    "\n",
    "If you're finding it hard to dedicate enough time for this course a week, we've provided a small shortcut to this part of the project. In the next couple of problems, you'll have the option to use [TensorFlow Layers](https://www.tensorflow.org/api_docs/python/tf/layers) or [TensorFlow Layers (contrib)](https://www.tensorflow.org/api_guides/python/contrib.layers) to build each layer, except \"Convolutional & Max Pooling\" layer.  TF Layers is similar to Keras's and TFLearn's abstraction to layers, so it's easy to pickup.\n",
    "\n",
    "If you would like to get the most of this course, try to solve all the problems without TF Layers.  Let's begin!\n",
    "### Input\n",
    "The neural network needs to read the image data, one-hot encoded labels, and dropout keep probability. Implement the following functions\n",
    "* Implement `neural_net_image_input`\n",
    " * Return a [TF Placeholder](https://www.tensorflow.org/api_docs/python/tf/placeholder)\n",
    " * Set the shape using `image_shape` with batch size set to `None`.\n",
    " * Name the TensorFlow placeholder \"x\" using the TensorFlow `name` parameter in the [TF Placeholder](https://www.tensorflow.org/api_docs/python/tf/placeholder).\n",
    "* Implement `neural_net_label_input`\n",
    " * Return a [TF Placeholder](https://www.tensorflow.org/api_docs/python/tf/placeholder)\n",
    " * Set the shape using `n_classes` with batch size set to `None`.\n",
    " * Name the TensorFlow placeholder \"y\" using the TensorFlow `name` parameter in the [TF Placeholder](https://www.tensorflow.org/api_docs/python/tf/placeholder).\n",
    "* Implement `neural_net_keep_prob_input`\n",
    " * Return a [TF Placeholder](https://www.tensorflow.org/api_docs/python/tf/placeholder) for dropout keep probability.\n",
    " * Name the TensorFlow placeholder \"keep_prob\" using the TensorFlow `name` parameter in the [TF Placeholder](https://www.tensorflow.org/api_docs/python/tf/placeholder).\n",
    "\n",
    "These names will be used at the end of the project to load your saved model.\n",
    "\n",
    "Note: `None` for shapes in TensorFlow allow for a dynamic size."
   ]
  },
  {
   "cell_type": "code",
   "execution_count": 7,
   "metadata": {
    "collapsed": false,
    "deletable": true,
    "editable": true
   },
   "outputs": [
    {
     "name": "stdout",
     "output_type": "stream",
     "text": [
      "Image Input Tests Passed.\n",
      "Label Input Tests Passed.\n",
      "Keep Prob Tests Passed.\n"
     ]
    }
   ],
   "source": [
    "import tensorflow as tf\n",
    "\n",
    "def neural_net_image_input(image_shape):\n",
    "    \"\"\"\n",
    "    Return a Tensor for a bach of image input\n",
    "    : image_shape: Shape of the images\n",
    "    : return: Tensor for image input.\n",
    "    \"\"\"\n",
    "    # TODO: Implement Functionb\n",
    "    return tf.placeholder(tf.float32, shape=[None, image_shape[0], image_shape[1], image_shape[2]], name = 'x')\n",
    "\n",
    "\n",
    "def neural_net_label_input(n_classes):\n",
    "    \"\"\"\n",
    "    Return a Tensor for a batch of label input\n",
    "    : n_classes: Number of classes\n",
    "    : return: Tensor for label input.\n",
    "    \"\"\"\n",
    "    # TODO: Implement Function\n",
    "    return tf.placeholder(tf.float32, shape=[None, n_classes], name = 'y')\n",
    "\n",
    "\n",
    "def neural_net_keep_prob_input():\n",
    "    \"\"\"\n",
    "    Return a Tensor for keep probability\n",
    "    : return: Tensor for keep probability.\n",
    "    \"\"\"\n",
    "    # TODO: Implement Function\n",
    "    return tf.placeholder(tf.float32, name = 'keep_prob')\n",
    "\n",
    "\n",
    "\"\"\"\n",
    "DON'T MODIFY ANYTHING IN THIS CELL THAT IS BELOW THIS LINE\n",
    "\"\"\"\n",
    "tf.reset_default_graph()\n",
    "tests.test_nn_image_inputs(neural_net_image_input)\n",
    "tests.test_nn_label_inputs(neural_net_label_input)\n",
    "tests.test_nn_keep_prob_inputs(neural_net_keep_prob_input)"
   ]
  },
  {
   "cell_type": "markdown",
   "metadata": {
    "deletable": true,
    "editable": true
   },
   "source": [
    "### Convolution and Max Pooling Layer\n",
    "Convolution layers have a lot of success with images. For this code cell, you should implement the function `conv2d_maxpool` to apply convolution then max pooling:\n",
    "* Create the weight and bias using `conv_ksize`, `conv_num_outputs` and the shape of `x_tensor`.\n",
    "* Apply a convolution to `x_tensor` using weight and `conv_strides`.\n",
    " * We recommend you use same padding, but you're welcome to use any padding.\n",
    "* Add bias\n",
    "* Add a nonlinear activation to the convolution.\n",
    "* Apply Max Pooling using `pool_ksize` and `pool_strides`.\n",
    " * We recommend you use same padding, but you're welcome to use any padding.\n",
    "\n",
    "Note: You **can't** use [TensorFlow Layers](https://www.tensorflow.org/api_docs/python/tf/layers) or [TensorFlow Layers (contrib)](https://www.tensorflow.org/api_guides/python/contrib.layers) for this layer.  You're free to use any TensorFlow package for all the other layers."
   ]
  },
  {
   "cell_type": "code",
   "execution_count": 8,
   "metadata": {
    "collapsed": false,
    "deletable": true,
    "editable": true
   },
   "outputs": [
    {
     "name": "stdout",
     "output_type": "stream",
     "text": [
      "Tests Passed\n"
     ]
    }
   ],
   "source": [
    "def conv2d_maxpool(x_tensor, conv_num_outputs, conv_ksize, conv_strides, pool_ksize, pool_strides):\n",
    "    \"\"\"\n",
    "    Apply convolution then max pooling to x_tensor\n",
    "    :param x_tensor: TensorFlow Tensor\n",
    "    :param conv_num_outputs: Number of outputs for the convolutional layer\n",
    "    :param conv_ksize: kernal size 2-D Tuple for the convolutional layer\n",
    "    :param conv_strides: Stride 2-D Tuple for convolution\n",
    "    :param pool_ksize: kernal size 2-D Tuple for pool\n",
    "    :param pool_strides: Stride 2-D Tuple for pool\n",
    "    : return: A tensor that represents convolution and max pooling of x_tensor\n",
    "    \"\"\"\n",
    "    # TODO: Implement Function\n",
    "    batch_size = x_tensor.get_shape().as_list()[-1]\n",
    "    weight = tf.Variable(tf.random_normal([conv_ksize[0], conv_ksize[1], batch_size, conv_num_outputs], stddev=0.1))\n",
    "    bias = tf.Variable(tf.zeros([conv_num_outputs]))\n",
    "    \n",
    "    layer1 = tf.nn.conv2d(x_tensor, weight, [1, conv_strides[0], conv_strides[1], 1], padding='SAME')\n",
    "    layer2 = tf.nn.bias_add(layer1, bias)\n",
    "    layer3 = tf.nn.relu(layer2)\n",
    "    layer4 = tf.nn.max_pool(layer3, ksize=[1, pool_ksize[0], pool_ksize[1], 1],\n",
    "                      strides=[1, pool_strides[0], pool_strides[1], 1],\n",
    "                      padding='SAME')\n",
    "    layer5 = tf.nn.lrn(layer4, 4, bias=1.0, alpha=0.001 / 9.0, beta=0.75)\n",
    "    \n",
    "    return layer5 \n",
    "\n",
    "\n",
    "\"\"\"\n",
    "DON'T MODIFY ANYTHING IN THIS CELL THAT IS BELOW THIS LINE\n",
    "\"\"\"\n",
    "tests.test_con_pool(conv2d_maxpool)"
   ]
  },
  {
   "cell_type": "markdown",
   "metadata": {
    "deletable": true,
    "editable": true
   },
   "source": [
    "### Flatten Layer\n",
    "Implement the `flatten` function to change the dimension of `x_tensor` from a 4-D tensor to a 2-D tensor.  The output should be the shape (*Batch Size*, *Flattened Image Size*). You can use [TensorFlow Layers](https://www.tensorflow.org/api_docs/python/tf/layers) or [TensorFlow Layers (contrib)](https://www.tensorflow.org/api_guides/python/contrib.layers) for this layer."
   ]
  },
  {
   "cell_type": "code",
   "execution_count": 9,
   "metadata": {
    "collapsed": false,
    "deletable": true,
    "editable": true
   },
   "outputs": [
    {
     "name": "stdout",
     "output_type": "stream",
     "text": [
      "Tests Passed\n"
     ]
    }
   ],
   "source": [
    "def flatten(x_tensor):\n",
    "    \"\"\"\n",
    "    Flatten x_tensor to (Batch Size, Flattened Image Size)\n",
    "    : x_tensor: A tensor of size (Batch Size, ...), where ... are the image dimensions.\n",
    "    : return: A tensor of size (Batch Size, Flattened Image Size).\n",
    "    \"\"\"\n",
    "    # TODO: Implement Function\n",
    "    return tf.contrib.layers.flatten(x_tensor)\n",
    "\n",
    "\n",
    "\"\"\"\n",
    "DON'T MODIFY ANYTHING IN THIS CELL THAT IS BELOW THIS LINE\n",
    "\"\"\"\n",
    "tests.test_flatten(flatten)"
   ]
  },
  {
   "cell_type": "markdown",
   "metadata": {
    "deletable": true,
    "editable": true
   },
   "source": [
    "### Fully-Connected Layer\n",
    "Implement the `fully_conn` function to apply a fully connected layer to `x_tensor` with the shape (*Batch Size*, *num_outputs*). You can use [TensorFlow Layers](https://www.tensorflow.org/api_docs/python/tf/layers) or [TensorFlow Layers (contrib)](https://www.tensorflow.org/api_guides/python/contrib.layers) for this layer."
   ]
  },
  {
   "cell_type": "code",
   "execution_count": 10,
   "metadata": {
    "collapsed": false,
    "deletable": true,
    "editable": true
   },
   "outputs": [
    {
     "name": "stdout",
     "output_type": "stream",
     "text": [
      "Tests Passed\n"
     ]
    }
   ],
   "source": [
    "def fully_conn(x_tensor, num_outputs):\n",
    "    \"\"\"\n",
    "    Apply a fully connected layer to x_tensor using weight and bias\n",
    "    : x_tensor: A 2-D tensor where the first dimension is batch size.\n",
    "    : num_outputs: The number of output that the new tensor should be.\n",
    "    : return: A 2-D tensor where the second dimension is num_outputs.\n",
    "    \"\"\"\n",
    "    # TODO: Implement Function\n",
    "    #fc = tf.contrib.layers.fully_connected(x_tensor, num_outputs, activation_fn=tf.nn.relu)\n",
    "    weight = tf.Variable(tf.random_normal([x_tensor.shape.as_list()[1], num_outputs], stddev=0.1))\n",
    "    bias = tf.Variable(tf.zeros([num_outputs]))\n",
    "    fc = tf.nn.relu(tf.matmul(x_tensor, weight) + bias)\n",
    "    return fc\n",
    "\n",
    "\n",
    "\"\"\"\n",
    "DON'T MODIFY ANYTHING IN THIS CELL THAT IS BELOW THIS LINE\n",
    "\"\"\"\n",
    "tests.test_fully_conn(fully_conn)"
   ]
  },
  {
   "cell_type": "markdown",
   "metadata": {
    "deletable": true,
    "editable": true
   },
   "source": [
    "### Output Layer\n",
    "Implement the `output` function to apply a fully connected layer to `x_tensor` with the shape (*Batch Size*, *num_outputs*). You can use [TensorFlow Layers](https://www.tensorflow.org/api_docs/python/tf/layers) or [TensorFlow Layers (contrib)](https://www.tensorflow.org/api_guides/python/contrib.layers) for this layer.\n",
    "\n",
    "Note: Activation, softmax, or cross entropy shouldn't be applied to this."
   ]
  },
  {
   "cell_type": "code",
   "execution_count": 11,
   "metadata": {
    "collapsed": false,
    "deletable": true,
    "editable": true
   },
   "outputs": [
    {
     "name": "stdout",
     "output_type": "stream",
     "text": [
      "Tests Passed\n"
     ]
    }
   ],
   "source": [
    "def output(x_tensor, num_outputs):\n",
    "    \"\"\"\n",
    "    Apply a output layer to x_tensor using weight and bias\n",
    "    : x_tensor: A 2-D tensor where the first dimension is batch size.\n",
    "    : num_outputs: The number of output that the new tensor should be.\n",
    "    : return: A 2-D tensor where the second dimension is num_outputs.\n",
    "    \"\"\"\n",
    "    # TODO: Implement Function\n",
    "    #tf.contrib.layers.fully_connected(x_tensor, num_outputs, activation_fn=None)\n",
    "    weight = tf.Variable(tf.random_normal([x_tensor.shape.as_list()[1], num_outputs], stddev=0.1))\n",
    "    bias = tf.Variable(tf.zeros([num_outputs]))\n",
    "    output = tf.matmul(x_tensor, weight) + bias\n",
    "    return output\n",
    "\n",
    "\"\"\"\n",
    "DON'T MODIFY ANYTHING IN THIS CELL THAT IS BELOW THIS LINE\n",
    "\"\"\"\n",
    "tests.test_output(output)"
   ]
  },
  {
   "cell_type": "markdown",
   "metadata": {
    "deletable": true,
    "editable": true
   },
   "source": [
    "### Create Convolutional Model\n",
    "Implement the function `conv_net` to create a convolutional neural network model. The function takes in a batch of images, `x`, and outputs logits.  Use the layers you created above to create this model:\n",
    "\n",
    "* Apply 1, 2, or 3 Convolution and Max Pool layers\n",
    "* Apply a Flatten Layer\n",
    "* Apply 1, 2, or 3 Fully Connected Layers\n",
    "* Apply an Output Layer\n",
    "* Return the output\n",
    "* Apply [TensorFlow's Dropout](https://www.tensorflow.org/api_docs/python/tf/nn/dropout) to one or more layers in the model using `keep_prob`. "
   ]
  },
  {
   "cell_type": "code",
   "execution_count": 12,
   "metadata": {
    "collapsed": false,
    "deletable": true,
    "editable": true
   },
   "outputs": [
    {
     "name": "stdout",
     "output_type": "stream",
     "text": [
      "Neural Network Built!\n"
     ]
    }
   ],
   "source": [
    "def conv_net(x, keep_prob):\n",
    "    \"\"\"\n",
    "    Create a convolutional neural network model\n",
    "    : x: Placeholder tensor that holds image data.\n",
    "    : keep_prob: Placeholder tensor that hold dropout keep probability.\n",
    "    : return: Tensor that represents logits\n",
    "    \"\"\"\n",
    "    # TODO: Apply 1, 2, or 3 Convolution and Max Pool layers\n",
    "    #    Play around with different number of outputs, kernel size and stride\n",
    "    # Function Definition from Above:\n",
    "    #    conv2d_maxpool(x_tensor, conv_num_outputs, conv_ksize, conv_strides, pool_ksize, pool_strides)\n",
    "    num_outputs = 10\n",
    "    layer_conv1 = conv2d_maxpool(x_tensor=x, \n",
    "                            conv_num_outputs=10, \n",
    "                            conv_ksize=(3,3), conv_strides=(1,1), \n",
    "                            pool_ksize=(2,2), pool_strides=(2,2))\n",
    "    layer_conv2 = conv2d_maxpool(x_tensor=layer_conv1, \n",
    "                            conv_num_outputs=10, \n",
    "                            conv_ksize=(3,3), conv_strides=(1,1), \n",
    "                            pool_ksize=(2,2), pool_strides=(2,2))\n",
    "#    layer_conv3 = conv2d_maxpool(x_tensor=layer_conv2, \n",
    "#                            conv_num_outputs=10, \n",
    "#                            conv_ksize=(3,3), conv_strides=(1,1), \n",
    "#                            pool_ksize=(2,2), pool_strides=(2,2))\n",
    "\n",
    "    # TODO: Apply a Flatten Layer\n",
    "    # Function Definition from Above:\n",
    "    #   flatten(x_tensor)\n",
    "    layer_flatten = flatten(layer_conv2)\n",
    "\n",
    "    # TODO: Apply 1, 2, or 3 Fully Connected Layers\n",
    "    #    Play around with different number of outputs\n",
    "    # Function Definition from Above:\n",
    "    #   fully_conn(x_tensor, num_outputs)\n",
    "    layer_fc1 = fully_conn(layer_flatten, num_outputs)\n",
    "    layer_dropout = tf.nn.dropout(layer_fc1, keep_prob)\n",
    "    \n",
    "    # TODO: Apply an Output Layer\n",
    "    #    Set this to the number of classes\n",
    "    # Function Definition from Above:\n",
    "    #   output(x_tensor, num_outputs)\n",
    "    layer_output = output(layer_dropout, num_outputs)\n",
    "    \n",
    "    # TODO: return output\n",
    "    return layer_output\n",
    "\n",
    "\n",
    "\"\"\"\n",
    "DON'T MODIFY ANYTHING IN THIS CELL THAT IS BELOW THIS LINE\n",
    "\"\"\"\n",
    "\n",
    "##############################\n",
    "## Build the Neural Network ##\n",
    "##############################\n",
    "\n",
    "# Remove previous weights, bias, inputs, etc..\n",
    "tf.reset_default_graph()\n",
    "\n",
    "# Inputs\n",
    "x = neural_net_image_input((32, 32, 3))\n",
    "y = neural_net_label_input(10)\n",
    "keep_prob = neural_net_keep_prob_input()\n",
    "\n",
    "# Model\n",
    "logits = conv_net(x, keep_prob)\n",
    "\n",
    "# Name logits Tensor, so that is can be loaded from disk after training\n",
    "logits = tf.identity(logits, name='logits')\n",
    "\n",
    "# Loss and Optimizer\n",
    "cost = tf.reduce_mean(tf.nn.softmax_cross_entropy_with_logits(logits=logits, labels=y))\n",
    "optimizer = tf.train.AdamOptimizer().minimize(cost)\n",
    "\n",
    "# Accuracy\n",
    "correct_pred = tf.equal(tf.argmax(logits, 1), tf.argmax(y, 1))\n",
    "accuracy = tf.reduce_mean(tf.cast(correct_pred, tf.float32), name='accuracy')\n",
    "\n",
    "tests.test_conv_net(conv_net)"
   ]
  },
  {
   "cell_type": "markdown",
   "metadata": {
    "deletable": true,
    "editable": true
   },
   "source": [
    "## Train the Neural Network\n",
    "### Single Optimization\n",
    "Implement the function `train_neural_network` to do a single optimization.  The optimization should use `optimizer` to optimize in `session` with a `feed_dict` of the following:\n",
    "* `x` for image input\n",
    "* `y` for labels\n",
    "* `keep_prob` for keep probability for dropout\n",
    "\n",
    "This function will be called for each batch, so `tf.global_variables_initializer()` has already been called.\n",
    "\n",
    "Note: Nothing needs to be returned. This function is only optimizing the neural network."
   ]
  },
  {
   "cell_type": "code",
   "execution_count": 13,
   "metadata": {
    "collapsed": false,
    "deletable": true,
    "editable": true
   },
   "outputs": [
    {
     "name": "stdout",
     "output_type": "stream",
     "text": [
      "Tests Passed\n"
     ]
    }
   ],
   "source": [
    "def train_neural_network(session, optimizer, keep_probability, feature_batch, label_batch):\n",
    "    \"\"\"\n",
    "    Optimize the session on a batch of images and labels\n",
    "    : session: Current TensorFlow session\n",
    "    : optimizer: TensorFlow optimizer function\n",
    "    : keep_probability: keep probability\n",
    "    : feature_batch: Batch of Numpy image data\n",
    "    : label_batch: Batch of Numpy label data\n",
    "    \"\"\"\n",
    "    # TODO: Implement Function\n",
    "    session.run(optimizer, feed_dict={x: feature_batch, y: label_batch, keep_prob: keep_probability})\n",
    "\n",
    "\n",
    "\"\"\"\n",
    "DON'T MODIFY ANYTHING IN THIS CELL THAT IS BELOW THIS LINE\n",
    "\"\"\"\n",
    "tests.test_train_nn(train_neural_network)"
   ]
  },
  {
   "cell_type": "markdown",
   "metadata": {
    "deletable": true,
    "editable": true
   },
   "source": [
    "### Show Stats\n",
    "Implement the function `print_stats` to print loss and validation accuracy.  Use the global variables `valid_features` and `valid_labels` to calculate validation accuracy.  Use a keep probability of `1.0` to calculate the loss and validation accuracy."
   ]
  },
  {
   "cell_type": "code",
   "execution_count": 14,
   "metadata": {
    "collapsed": false,
    "deletable": true,
    "editable": true
   },
   "outputs": [],
   "source": [
    "def print_stats(session, feature_batch, label_batch, cost, accuracy):\n",
    "    \"\"\"\n",
    "    Print information about loss and validation accuracy\n",
    "    : session: Current TensorFlow session\n",
    "    : feature_batch: Batch of Numpy image data\n",
    "    : label_batch: Batch of Numpy label data\n",
    "    : cost: TensorFlow cost function\n",
    "    : accuracy: TensorFlow accuracy function\n",
    "    \"\"\"\n",
    "    # TODO: Implement Function\n",
    "    loss = session.run(cost, feed_dict = {x: feature_batch,y: label_batch, keep_prob: 1.0})\n",
    "    acc = session.run(accuracy,feed_dict = {x: valid_features, y: valid_labels, keep_prob: 1.0})\n",
    "    print('loss:', loss, 'validation accuracy:', acc)"
   ]
  },
  {
   "cell_type": "markdown",
   "metadata": {
    "deletable": true,
    "editable": true
   },
   "source": [
    "### Hyperparameters\n",
    "Tune the following parameters:\n",
    "* Set `epochs` to the number of iterations until the network stops learning or start overfitting\n",
    "* Set `batch_size` to the highest number that your machine has memory for.  Most people set them to common sizes of memory:\n",
    " * 64\n",
    " * 128\n",
    " * 256\n",
    " * ...\n",
    "* Set `keep_probability` to the probability of keeping a node using dropout"
   ]
  },
  {
   "cell_type": "code",
   "execution_count": 15,
   "metadata": {
    "collapsed": true,
    "deletable": true,
    "editable": true
   },
   "outputs": [],
   "source": [
    "# TODO: Tune Parameters\n",
    "epochs = 30\n",
    "batch_size = 64\n",
    "keep_probability = 1.0"
   ]
  },
  {
   "cell_type": "markdown",
   "metadata": {
    "deletable": true,
    "editable": true
   },
   "source": [
    "### Train on a Single CIFAR-10 Batch\n",
    "Instead of training the neural network on all the CIFAR-10 batches of data, let's use a single batch. This should save time while you iterate on the model to get a better accuracy.  Once the final validation accuracy is 50% or greater, run the model on all the data in the next section."
   ]
  },
  {
   "cell_type": "code",
   "execution_count": 16,
   "metadata": {
    "collapsed": false,
    "deletable": true,
    "editable": true
   },
   "outputs": [
    {
     "name": "stdout",
     "output_type": "stream",
     "text": [
      "Checking the Training on a Single Batch...\n",
      "Epoch  1, CIFAR-10 Batch 1:  loss: 2.23386 validation accuracy: 0.2424\n",
      "Epoch  2, CIFAR-10 Batch 1:  loss: 2.24466 validation accuracy: 0.2494\n",
      "Epoch  3, CIFAR-10 Batch 1:  loss: 2.13457 validation accuracy: 0.305\n",
      "Epoch  4, CIFAR-10 Batch 1:  loss: 2.02976 validation accuracy: 0.3574\n",
      "Epoch  5, CIFAR-10 Batch 1:  loss: 1.99183 validation accuracy: 0.3816\n",
      "Epoch  6, CIFAR-10 Batch 1:  loss: 1.96538 validation accuracy: 0.3954\n",
      "Epoch  7, CIFAR-10 Batch 1:  loss: 1.9496 validation accuracy: 0.4024\n",
      "Epoch  8, CIFAR-10 Batch 1:  loss: 1.9531 validation accuracy: 0.414\n",
      "Epoch  9, CIFAR-10 Batch 1:  loss: 1.96804 validation accuracy: 0.4168\n",
      "Epoch 10, CIFAR-10 Batch 1:  loss: 1.96876 validation accuracy: 0.4198\n",
      "Epoch 11, CIFAR-10 Batch 1:  loss: 1.96051 validation accuracy: 0.429\n",
      "Epoch 12, CIFAR-10 Batch 1:  loss: 1.94198 validation accuracy: 0.4372\n",
      "Epoch 13, CIFAR-10 Batch 1:  loss: 1.92992 validation accuracy: 0.444\n",
      "Epoch 14, CIFAR-10 Batch 1:  loss: 1.92228 validation accuracy: 0.4472\n",
      "Epoch 15, CIFAR-10 Batch 1:  loss: 1.90647 validation accuracy: 0.454\n",
      "Epoch 16, CIFAR-10 Batch 1:  loss: 1.89025 validation accuracy: 0.4578\n",
      "Epoch 17, CIFAR-10 Batch 1:  loss: 1.87355 validation accuracy: 0.4614\n",
      "Epoch 18, CIFAR-10 Batch 1:  loss: 1.85844 validation accuracy: 0.4644\n",
      "Epoch 19, CIFAR-10 Batch 1:  loss: 1.83961 validation accuracy: 0.4656\n",
      "Epoch 20, CIFAR-10 Batch 1:  loss: 1.82662 validation accuracy: 0.4698\n",
      "Epoch 21, CIFAR-10 Batch 1:  loss: 1.81044 validation accuracy: 0.471\n",
      "Epoch 22, CIFAR-10 Batch 1:  loss: 1.79803 validation accuracy: 0.47\n",
      "Epoch 23, CIFAR-10 Batch 1:  loss: 1.77864 validation accuracy: 0.4726\n",
      "Epoch 24, CIFAR-10 Batch 1:  loss: 1.762 validation accuracy: 0.4768\n",
      "Epoch 25, CIFAR-10 Batch 1:  loss: 1.74552 validation accuracy: 0.4772\n",
      "Epoch 26, CIFAR-10 Batch 1:  loss: 1.72232 validation accuracy: 0.4798\n",
      "Epoch 27, CIFAR-10 Batch 1:  loss: 1.70763 validation accuracy: 0.4806\n",
      "Epoch 28, CIFAR-10 Batch 1:  loss: 1.69417 validation accuracy: 0.4832\n",
      "Epoch 29, CIFAR-10 Batch 1:  loss: 1.67613 validation accuracy: 0.486\n",
      "Epoch 30, CIFAR-10 Batch 1:  loss: 1.66081 validation accuracy: 0.4892\n"
     ]
    }
   ],
   "source": [
    "\"\"\"\n",
    "DON'T MODIFY ANYTHING IN THIS CELL\n",
    "\"\"\"\n",
    "print('Checking the Training on a Single Batch...')\n",
    "with tf.Session() as sess:\n",
    "    # Initializing the variables\n",
    "    sess.run(tf.global_variables_initializer())\n",
    "    \n",
    "    # Training cycle\n",
    "    for epoch in range(epochs):\n",
    "        batch_i = 1\n",
    "        for batch_features, batch_labels in helper.load_preprocess_training_batch(batch_i, batch_size):\n",
    "            train_neural_network(sess, optimizer, keep_probability, batch_features, batch_labels)\n",
    "        print('Epoch {:>2}, CIFAR-10 Batch {}:  '.format(epoch + 1, batch_i), end='')\n",
    "        print_stats(sess, batch_features, batch_labels, cost, accuracy)"
   ]
  },
  {
   "cell_type": "markdown",
   "metadata": {
    "deletable": true,
    "editable": true
   },
   "source": [
    "### Fully Train the Model\n",
    "Now that you got a good accuracy with a single CIFAR-10 batch, try it with all five batches."
   ]
  },
  {
   "cell_type": "code",
   "execution_count": 17,
   "metadata": {
    "collapsed": false,
    "deletable": true,
    "editable": true
   },
   "outputs": [
    {
     "name": "stdout",
     "output_type": "stream",
     "text": [
      "Training...\n",
      "Epoch  1, CIFAR-10 Batch 1:  loss: 2.26106 validation accuracy: 0.1766\n",
      "Epoch  1, CIFAR-10 Batch 2:  loss: 2.03062 validation accuracy: 0.2962\n",
      "Epoch  1, CIFAR-10 Batch 3:  loss: 1.66493 validation accuracy: 0.3372\n",
      "Epoch  1, CIFAR-10 Batch 4:  loss: 1.63362 validation accuracy: 0.369\n",
      "Epoch  1, CIFAR-10 Batch 5:  loss: 1.69192 validation accuracy: 0.4198\n",
      "Epoch  2, CIFAR-10 Batch 1:  loss: 1.8753 validation accuracy: 0.4328\n",
      "Epoch  2, CIFAR-10 Batch 2:  loss: 1.55011 validation accuracy: 0.445\n",
      "Epoch  2, CIFAR-10 Batch 3:  loss: 1.30337 validation accuracy: 0.4528\n",
      "Epoch  2, CIFAR-10 Batch 4:  loss: 1.4255 validation accuracy: 0.4776\n",
      "Epoch  2, CIFAR-10 Batch 5:  loss: 1.5318 validation accuracy: 0.4826\n",
      "Epoch  3, CIFAR-10 Batch 1:  loss: 1.7591 validation accuracy: 0.4892\n",
      "Epoch  3, CIFAR-10 Batch 2:  loss: 1.41003 validation accuracy: 0.4904\n",
      "Epoch  3, CIFAR-10 Batch 3:  loss: 1.20417 validation accuracy: 0.4986\n",
      "Epoch  3, CIFAR-10 Batch 4:  loss: 1.3326 validation accuracy: 0.5082\n",
      "Epoch  3, CIFAR-10 Batch 5:  loss: 1.44473 validation accuracy: 0.5106\n",
      "Epoch  4, CIFAR-10 Batch 1:  loss: 1.67972 validation accuracy: 0.5122\n",
      "Epoch  4, CIFAR-10 Batch 2:  loss: 1.30204 validation accuracy: 0.5182\n",
      "Epoch  4, CIFAR-10 Batch 3:  loss: 1.14596 validation accuracy: 0.5184\n",
      "Epoch  4, CIFAR-10 Batch 4:  loss: 1.29143 validation accuracy: 0.5218\n",
      "Epoch  4, CIFAR-10 Batch 5:  loss: 1.41764 validation accuracy: 0.5228\n",
      "Epoch  5, CIFAR-10 Batch 1:  loss: 1.6455 validation accuracy: 0.5248\n",
      "Epoch  5, CIFAR-10 Batch 2:  loss: 1.21565 validation accuracy: 0.532\n",
      "Epoch  5, CIFAR-10 Batch 3:  loss: 1.11029 validation accuracy: 0.5282\n",
      "Epoch  5, CIFAR-10 Batch 4:  loss: 1.261 validation accuracy: 0.5338\n",
      "Epoch  5, CIFAR-10 Batch 5:  loss: 1.40729 validation accuracy: 0.5284\n",
      "Epoch  6, CIFAR-10 Batch 1:  loss: 1.61586 validation accuracy: 0.5332\n",
      "Epoch  6, CIFAR-10 Batch 2:  loss: 1.15819 validation accuracy: 0.5368\n",
      "Epoch  6, CIFAR-10 Batch 3:  loss: 1.08644 validation accuracy: 0.5414\n",
      "Epoch  6, CIFAR-10 Batch 4:  loss: 1.22852 validation accuracy: 0.54\n",
      "Epoch  6, CIFAR-10 Batch 5:  loss: 1.39618 validation accuracy: 0.5386\n",
      "Epoch  7, CIFAR-10 Batch 1:  loss: 1.57747 validation accuracy: 0.5414\n",
      "Epoch  7, CIFAR-10 Batch 2:  loss: 1.13411 validation accuracy: 0.542\n",
      "Epoch  7, CIFAR-10 Batch 3:  loss: 1.05505 validation accuracy: 0.5438\n",
      "Epoch  7, CIFAR-10 Batch 4:  loss: 1.19329 validation accuracy: 0.5432\n",
      "Epoch  7, CIFAR-10 Batch 5:  loss: 1.38755 validation accuracy: 0.5494\n",
      "Epoch  8, CIFAR-10 Batch 1:  loss: 1.53935 validation accuracy: 0.5498\n",
      "Epoch  8, CIFAR-10 Batch 2:  loss: 1.11987 validation accuracy: 0.5466\n",
      "Epoch  8, CIFAR-10 Batch 3:  loss: 1.02742 validation accuracy: 0.55\n",
      "Epoch  8, CIFAR-10 Batch 4:  loss: 1.15765 validation accuracy: 0.5496\n",
      "Epoch  8, CIFAR-10 Batch 5:  loss: 1.36825 validation accuracy: 0.554\n",
      "Epoch  9, CIFAR-10 Batch 1:  loss: 1.49344 validation accuracy: 0.5574\n",
      "Epoch  9, CIFAR-10 Batch 2:  loss: 1.10781 validation accuracy: 0.5524\n",
      "Epoch  9, CIFAR-10 Batch 3:  loss: 0.999945 validation accuracy: 0.5568\n",
      "Epoch  9, CIFAR-10 Batch 4:  loss: 1.12751 validation accuracy: 0.561\n",
      "Epoch  9, CIFAR-10 Batch 5:  loss: 1.33491 validation accuracy: 0.5552\n",
      "Epoch 10, CIFAR-10 Batch 1:  loss: 1.46068 validation accuracy: 0.5654\n",
      "Epoch 10, CIFAR-10 Batch 2:  loss: 1.10215 validation accuracy: 0.5566\n",
      "Epoch 10, CIFAR-10 Batch 3:  loss: 0.975804 validation accuracy: 0.5632\n",
      "Epoch 10, CIFAR-10 Batch 4:  loss: 1.09962 validation accuracy: 0.5666\n",
      "Epoch 10, CIFAR-10 Batch 5:  loss: 1.29532 validation accuracy: 0.5624\n",
      "Epoch 11, CIFAR-10 Batch 1:  loss: 1.43494 validation accuracy: 0.573\n",
      "Epoch 11, CIFAR-10 Batch 2:  loss: 1.10102 validation accuracy: 0.5608\n",
      "Epoch 11, CIFAR-10 Batch 3:  loss: 0.957234 validation accuracy: 0.5728\n",
      "Epoch 11, CIFAR-10 Batch 4:  loss: 1.07263 validation accuracy: 0.5726\n",
      "Epoch 11, CIFAR-10 Batch 5:  loss: 1.25533 validation accuracy: 0.567\n",
      "Epoch 12, CIFAR-10 Batch 1:  loss: 1.40047 validation accuracy: 0.5752\n",
      "Epoch 12, CIFAR-10 Batch 2:  loss: 1.09655 validation accuracy: 0.568\n",
      "Epoch 12, CIFAR-10 Batch 3:  loss: 0.944546 validation accuracy: 0.5794\n",
      "Epoch 12, CIFAR-10 Batch 4:  loss: 1.05104 validation accuracy: 0.5734\n",
      "Epoch 12, CIFAR-10 Batch 5:  loss: 1.2224 validation accuracy: 0.5726\n",
      "Epoch 13, CIFAR-10 Batch 1:  loss: 1.3747 validation accuracy: 0.5842\n",
      "Epoch 13, CIFAR-10 Batch 2:  loss: 1.09928 validation accuracy: 0.5774\n",
      "Epoch 13, CIFAR-10 Batch 3:  loss: 0.919813 validation accuracy: 0.5822\n",
      "Epoch 13, CIFAR-10 Batch 4:  loss: 1.02936 validation accuracy: 0.579\n",
      "Epoch 13, CIFAR-10 Batch 5:  loss: 1.18919 validation accuracy: 0.5786\n",
      "Epoch 14, CIFAR-10 Batch 1:  loss: 1.35641 validation accuracy: 0.5894\n",
      "Epoch 14, CIFAR-10 Batch 2:  loss: 1.09941 validation accuracy: 0.5838\n",
      "Epoch 14, CIFAR-10 Batch 3:  loss: 0.905511 validation accuracy: 0.5846\n",
      "Epoch 14, CIFAR-10 Batch 4:  loss: 1.00721 validation accuracy: 0.5852\n",
      "Epoch 14, CIFAR-10 Batch 5:  loss: 1.16591 validation accuracy: 0.5832\n",
      "Epoch 15, CIFAR-10 Batch 1:  loss: 1.34467 validation accuracy: 0.5934\n",
      "Epoch 15, CIFAR-10 Batch 2:  loss: 1.10073 validation accuracy: 0.5934\n",
      "Epoch 15, CIFAR-10 Batch 3:  loss: 0.895372 validation accuracy: 0.5884\n",
      "Epoch 15, CIFAR-10 Batch 4:  loss: 0.992916 validation accuracy: 0.5874\n",
      "Epoch 15, CIFAR-10 Batch 5:  loss: 1.14066 validation accuracy: 0.5862\n",
      "Epoch 16, CIFAR-10 Batch 1:  loss: 1.33333 validation accuracy: 0.5972\n",
      "Epoch 16, CIFAR-10 Batch 2:  loss: 1.10267 validation accuracy: 0.5964\n",
      "Epoch 16, CIFAR-10 Batch 3:  loss: 0.885704 validation accuracy: 0.5944\n",
      "Epoch 16, CIFAR-10 Batch 4:  loss: 0.976309 validation accuracy: 0.5902\n",
      "Epoch 16, CIFAR-10 Batch 5:  loss: 1.12417 validation accuracy: 0.5858\n",
      "Epoch 17, CIFAR-10 Batch 1:  loss: 1.32541 validation accuracy: 0.5994\n",
      "Epoch 17, CIFAR-10 Batch 2:  loss: 1.10524 validation accuracy: 0.5984\n",
      "Epoch 17, CIFAR-10 Batch 3:  loss: 0.876603 validation accuracy: 0.5988\n",
      "Epoch 17, CIFAR-10 Batch 4:  loss: 0.967457 validation accuracy: 0.5946\n",
      "Epoch 17, CIFAR-10 Batch 5:  loss: 1.09683 validation accuracy: 0.5866\n",
      "Epoch 18, CIFAR-10 Batch 1:  loss: 1.31398 validation accuracy: 0.604\n",
      "Epoch 18, CIFAR-10 Batch 2:  loss: 1.10526 validation accuracy: 0.603\n",
      "Epoch 18, CIFAR-10 Batch 3:  loss: 0.871913 validation accuracy: 0.602\n",
      "Epoch 18, CIFAR-10 Batch 4:  loss: 0.954473 validation accuracy: 0.5936\n",
      "Epoch 18, CIFAR-10 Batch 5:  loss: 1.07577 validation accuracy: 0.5908\n",
      "Epoch 19, CIFAR-10 Batch 1:  loss: 1.30861 validation accuracy: 0.604\n",
      "Epoch 19, CIFAR-10 Batch 2:  loss: 1.10264 validation accuracy: 0.6056\n",
      "Epoch 19, CIFAR-10 Batch 3:  loss: 0.862995 validation accuracy: 0.6038\n",
      "Epoch 19, CIFAR-10 Batch 4:  loss: 0.946182 validation accuracy: 0.5918\n",
      "Epoch 19, CIFAR-10 Batch 5:  loss: 1.06265 validation accuracy: 0.5924\n",
      "Epoch 20, CIFAR-10 Batch 1:  loss: 1.30337 validation accuracy: 0.6076\n",
      "Epoch 20, CIFAR-10 Batch 2:  loss: 1.09313 validation accuracy: 0.606\n",
      "Epoch 20, CIFAR-10 Batch 3:  loss: 0.858727 validation accuracy: 0.6072\n",
      "Epoch 20, CIFAR-10 Batch 4:  loss: 0.935183 validation accuracy: 0.5962\n",
      "Epoch 20, CIFAR-10 Batch 5:  loss: 1.03679 validation accuracy: 0.5968\n",
      "Epoch 21, CIFAR-10 Batch 1:  loss: 1.30187 validation accuracy: 0.61\n",
      "Epoch 21, CIFAR-10 Batch 2:  loss: 1.09258 validation accuracy: 0.6104\n",
      "Epoch 21, CIFAR-10 Batch 3:  loss: 0.858215 validation accuracy: 0.6088\n",
      "Epoch 21, CIFAR-10 Batch 4:  loss: 0.932358 validation accuracy: 0.6038\n",
      "Epoch 21, CIFAR-10 Batch 5:  loss: 1.02288 validation accuracy: 0.596\n",
      "Epoch 22, CIFAR-10 Batch 1:  loss: 1.3008 validation accuracy: 0.6138\n",
      "Epoch 22, CIFAR-10 Batch 2:  loss: 1.08708 validation accuracy: 0.6128\n",
      "Epoch 22, CIFAR-10 Batch 3:  loss: 0.852966 validation accuracy: 0.6104\n",
      "Epoch 22, CIFAR-10 Batch 4:  loss: 0.927582 validation accuracy: 0.605\n",
      "Epoch 22, CIFAR-10 Batch 5:  loss: 1.01428 validation accuracy: 0.6012\n",
      "Epoch 23, CIFAR-10 Batch 1:  loss: 1.29036 validation accuracy: 0.6156\n",
      "Epoch 23, CIFAR-10 Batch 2:  loss: 1.08065 validation accuracy: 0.6168\n",
      "Epoch 23, CIFAR-10 Batch 3:  loss: 0.84584 validation accuracy: 0.6108\n",
      "Epoch 23, CIFAR-10 Batch 4:  loss: 0.924373 validation accuracy: 0.6096\n",
      "Epoch 23, CIFAR-10 Batch 5:  loss: 0.996668 validation accuracy: 0.5992\n",
      "Epoch 24, CIFAR-10 Batch 1:  loss: 1.28773 validation accuracy: 0.6164\n",
      "Epoch 24, CIFAR-10 Batch 2:  loss: 1.07143 validation accuracy: 0.6184\n",
      "Epoch 24, CIFAR-10 Batch 3:  loss: 0.837919 validation accuracy: 0.6146\n",
      "Epoch 24, CIFAR-10 Batch 4:  loss: 0.922455 validation accuracy: 0.613\n",
      "Epoch 24, CIFAR-10 Batch 5:  loss: 0.983114 validation accuracy: 0.6032\n",
      "Epoch 25, CIFAR-10 Batch 1:  loss: 1.27938 validation accuracy: 0.619\n",
      "Epoch 25, CIFAR-10 Batch 2:  loss: 1.06358 validation accuracy: 0.6194\n",
      "Epoch 25, CIFAR-10 Batch 3:  loss: 0.833809 validation accuracy: 0.6134\n",
      "Epoch 25, CIFAR-10 Batch 4:  loss: 0.916641 validation accuracy: 0.6112\n",
      "Epoch 25, CIFAR-10 Batch 5:  loss: 0.972614 validation accuracy: 0.605\n",
      "Epoch 26, CIFAR-10 Batch 1:  loss: 1.27393 validation accuracy: 0.6214\n",
      "Epoch 26, CIFAR-10 Batch 2:  loss: 1.05524 validation accuracy: 0.6192\n",
      "Epoch 26, CIFAR-10 Batch 3:  loss: 0.825745 validation accuracy: 0.6142\n",
      "Epoch 26, CIFAR-10 Batch 4:  loss: 0.911811 validation accuracy: 0.6136\n",
      "Epoch 26, CIFAR-10 Batch 5:  loss: 0.95934 validation accuracy: 0.6074\n",
      "Epoch 27, CIFAR-10 Batch 1:  loss: 1.26539 validation accuracy: 0.6258\n",
      "Epoch 27, CIFAR-10 Batch 2:  loss: 1.04777 validation accuracy: 0.6198\n",
      "Epoch 27, CIFAR-10 Batch 3:  loss: 0.823448 validation accuracy: 0.6156\n",
      "Epoch 27, CIFAR-10 Batch 4:  loss: 0.905933 validation accuracy: 0.6138\n",
      "Epoch 27, CIFAR-10 Batch 5:  loss: 0.946974 validation accuracy: 0.6096\n",
      "Epoch 28, CIFAR-10 Batch 1:  loss: 1.26104 validation accuracy: 0.625\n",
      "Epoch 28, CIFAR-10 Batch 2:  loss: 1.04186 validation accuracy: 0.6208\n",
      "Epoch 28, CIFAR-10 Batch 3:  loss: 0.820837 validation accuracy: 0.617\n",
      "Epoch 28, CIFAR-10 Batch 4:  loss: 0.902428 validation accuracy: 0.617\n",
      "Epoch 28, CIFAR-10 Batch 5:  loss: 0.929736 validation accuracy: 0.6102\n",
      "Epoch 29, CIFAR-10 Batch 1:  loss: 1.25787 validation accuracy: 0.6272\n",
      "Epoch 29, CIFAR-10 Batch 2:  loss: 1.0347 validation accuracy: 0.6214\n",
      "Epoch 29, CIFAR-10 Batch 3:  loss: 0.816652 validation accuracy: 0.6196\n",
      "Epoch 29, CIFAR-10 Batch 4:  loss: 0.898383 validation accuracy: 0.62\n",
      "Epoch 29, CIFAR-10 Batch 5:  loss: 0.920166 validation accuracy: 0.6102\n",
      "Epoch 30, CIFAR-10 Batch 1:  loss: 1.25752 validation accuracy: 0.6262\n",
      "Epoch 30, CIFAR-10 Batch 2:  loss: 1.03089 validation accuracy: 0.6214\n",
      "Epoch 30, CIFAR-10 Batch 3:  loss: 0.810299 validation accuracy: 0.6204\n",
      "Epoch 30, CIFAR-10 Batch 4:  loss: 0.896118 validation accuracy: 0.6202\n",
      "Epoch 30, CIFAR-10 Batch 5:  loss: 0.912355 validation accuracy: 0.6116\n"
     ]
    }
   ],
   "source": [
    "\"\"\"\n",
    "DON'T MODIFY ANYTHING IN THIS CELL\n",
    "\"\"\"\n",
    "save_model_path = './image_classification'\n",
    "\n",
    "print('Training...')\n",
    "with tf.Session() as sess:\n",
    "    # Initializing the variables\n",
    "    sess.run(tf.global_variables_initializer())\n",
    "    \n",
    "    # Training cycle\n",
    "    for epoch in range(epochs):\n",
    "        # Loop over all batches\n",
    "        n_batches = 5\n",
    "        for batch_i in range(1, n_batches + 1):\n",
    "            for batch_features, batch_labels in helper.load_preprocess_training_batch(batch_i, batch_size):\n",
    "                train_neural_network(sess, optimizer, keep_probability, batch_features, batch_labels)\n",
    "            print('Epoch {:>2}, CIFAR-10 Batch {}:  '.format(epoch + 1, batch_i), end='')\n",
    "            print_stats(sess, batch_features, batch_labels, cost, accuracy)\n",
    "            \n",
    "    # Save Model\n",
    "    saver = tf.train.Saver()\n",
    "    save_path = saver.save(sess, save_model_path)"
   ]
  },
  {
   "cell_type": "markdown",
   "metadata": {
    "deletable": true,
    "editable": true
   },
   "source": [
    "# Checkpoint\n",
    "The model has been saved to disk.\n",
    "## Test Model\n",
    "Test your model against the test dataset.  This will be your final accuracy. You should have an accuracy greater than 50%. If you don't, keep tweaking the model architecture and parameters."
   ]
  },
  {
   "cell_type": "code",
   "execution_count": 18,
   "metadata": {
    "collapsed": false,
    "deletable": true,
    "editable": true
   },
   "outputs": [
    {
     "name": "stdout",
     "output_type": "stream",
     "text": [
      "Testing Accuracy: 0.6100716560509554\n",
      "\n"
     ]
    },
    {
     "data": {
      "image/png": "[encoded data removed]",
      "text/plain": [
       "<matplotlib.figure.Figure at 0x11625a198>"
      ]
     },
     "metadata": {
      "image/png": {
       "height": 319,
       "width": 355
      }
     },
     "output_type": "display_data"
    }
   ],
   "source": [
    "\"\"\"\n",
    "DON'T MODIFY ANYTHING IN THIS CELL\n",
    "\"\"\"\n",
    "%matplotlib inline\n",
    "%config InlineBackend.figure_format = 'retina'\n",
    "\n",
    "import tensorflow as tf\n",
    "import pickle\n",
    "import helper\n",
    "import random\n",
    "\n",
    "# Set batch size if not already set\n",
    "try:\n",
    "    if batch_size:\n",
    "        pass\n",
    "except NameError:\n",
    "    batch_size = 64\n",
    "\n",
    "save_model_path = './image_classification'\n",
    "n_samples = 4\n",
    "top_n_predictions = 3\n",
    "\n",
    "def test_model():\n",
    "    \"\"\"\n",
    "    Test the saved model against the test dataset\n",
    "    \"\"\"\n",
    "\n",
    "    test_features, test_labels = pickle.load(open('preprocess_test.p', mode='rb'))\n",
    "    loaded_graph = tf.Graph()\n",
    "\n",
    "    with tf.Session(graph=loaded_graph) as sess:\n",
    "        # Load model\n",
    "        loader = tf.train.import_meta_graph(save_model_path + '.meta')\n",
    "        loader.restore(sess, save_model_path)\n",
    "\n",
    "        # Get Tensors from loaded model\n",
    "        loaded_x = loaded_graph.get_tensor_by_name('x:0')\n",
    "        loaded_y = loaded_graph.get_tensor_by_name('y:0')\n",
    "        loaded_keep_prob = loaded_graph.get_tensor_by_name('keep_prob:0')\n",
    "        loaded_logits = loaded_graph.get_tensor_by_name('logits:0')\n",
    "        loaded_acc = loaded_graph.get_tensor_by_name('accuracy:0')\n",
    "        \n",
    "        # Get accuracy in batches for memory limitations\n",
    "        test_batch_acc_total = 0\n",
    "        test_batch_count = 0\n",
    "        \n",
    "        for test_feature_batch, test_label_batch in helper.batch_features_labels(test_features, test_labels, batch_size):\n",
    "            test_batch_acc_total += sess.run(\n",
    "                loaded_acc,\n",
    "                feed_dict={loaded_x: test_feature_batch, loaded_y: test_label_batch, loaded_keep_prob: 1.0})\n",
    "            test_batch_count += 1\n",
    "\n",
    "        print('Testing Accuracy: {}\\n'.format(test_batch_acc_total/test_batch_count))\n",
    "\n",
    "        # Print Random Samples\n",
    "        random_test_features, random_test_labels = tuple(zip(*random.sample(list(zip(test_features, test_labels)), n_samples)))\n",
    "        random_test_predictions = sess.run(\n",
    "            tf.nn.top_k(tf.nn.softmax(loaded_logits), top_n_predictions),\n",
    "            feed_dict={loaded_x: random_test_features, loaded_y: random_test_labels, loaded_keep_prob: 1.0})\n",
    "        helper.display_image_predictions(random_test_features, random_test_labels, random_test_predictions)\n",
    "\n",
    "\n",
    "test_model()"
   ]
  },
  {
   "cell_type": "markdown",
   "metadata": {
    "deletable": true,
    "editable": true
   },
   "source": [
    "## Why 50-70% Accuracy?\n",
    "You might be wondering why you can't get an accuracy any higher. First things first, 50% isn't bad for a simple CNN.  Pure guessing would get you 10% accuracy. However, you might notice people are getting scores [well above 70%](http://rodrigob.github.io/are_we_there_yet/build/classification_datasets_results.html#43494641522d3130).  That's because we haven't taught you all there is to know about neural networks. We still need to cover a few more techniques.\n",
    "## Submitting This Project\n",
    "When submitting this project, make sure to run all the cells before saving the notebook.  Save the notebook file as \"dlnd_image_classification.ipynb\" and save it as a HTML file under \"File\" -> \"Download as\".  Include the \"helper.py\" and \"problem_unittests.py\" files in your submission."
   ]
  }
 ],
 "metadata": {
  "kernelspec": {
   "display_name": "Python 3",
   "language": "python",
   "name": "python3"
  },
  "language_info": {
   "codemirror_mode": {
    "name": "ipython",
    "version": 3
   },
   "file_extension": ".py",
   "mimetype": "text/x-python",
   "name": "python",
   "nbconvert_exporter": "python",
   "pygments_lexer": "ipython3",
   "version": "3.6.0"
  },
  "widgets": {
   "state": {},
   "version": "1.1.2"
  }
 },
 "nbformat": 4,
 "nbformat_minor": 0
}
